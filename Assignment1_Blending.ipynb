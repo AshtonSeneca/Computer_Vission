{
 "cells": [
  {
   "cell_type": "markdown",
   "id": "4e519007",
   "metadata": {},
   "source": [
    "Write a Python script to manually blend two images using NumPy operations.\n",
    "Use the following formula to blend them:\n",
    "blend = (1−α)⋅img1 + α⋅img2\n",
    "\n",
    "•\talpha must be a value between 0 and 1.\n",
    "•\tDo not use cv2.addWeighted.\n",
    "•\tDisplay and save the blended image as \"manual_blend.jpg\"\n"
   ]
  },
  {
   "cell_type": "code",
   "execution_count": 13,
   "id": "9844595a",
   "metadata": {},
   "outputs": [],
   "source": [
    "# Library: OpenCV and NumPy\n",
    "import cv2\n",
    "import numpy as np"
   ]
  },
  {
   "cell_type": "code",
   "execution_count": 14,
   "id": "c93aae1d",
   "metadata": {},
   "outputs": [],
   "source": [
    "# Load the two images\n",
    "img1 = cv2.imread(\"GatoOne.jpg\")\n",
    "img2 = cv2.imread(\"GatoTwo.jpg\")\n",
    "\n",
    "# Resize img2 to match img1 if necessary\n",
    "if img1.shape != img2.shape:\n",
    "    img2 = cv2.resize(img2, (img1.shape[1], img1.shape[0]))\n",
    "\n",
    "# This is the blending factor\n",
    "# You can change this between 0 (left side is img1)) and 1 (right side is img2)\n",
    "alpha = 0.5\n",
    "\n",
    "# Perform manual blending using NumPy\n",
    "# using the formula: blend = (1 - alpha) * img1 + alpha * img2\n",
    "blend = ((1 - alpha) * img1 + alpha * img2).astype(np.uint8)\n"
   ]
  },
  {
   "cell_type": "code",
   "execution_count": 15,
   "id": "7a31bb29",
   "metadata": {},
   "outputs": [],
   "source": [
    "# Save and display the result\n",
    "\n",
    "cv2.imwrite(\"manual_blend.jpg\", blend)\n",
    "cv2.imshow(\"Manual Blend\", blend)\n",
    "cv2.waitKey(0)\n",
    "cv2.destroyAllWindows()\n"
   ]
  }
 ],
 "metadata": {
  "kernelspec": {
   "display_name": "Python 3",
   "language": "python",
   "name": "python3"
  },
  "language_info": {
   "codemirror_mode": {
    "name": "ipython",
    "version": 3
   },
   "file_extension": ".py",
   "mimetype": "text/x-python",
   "name": "python",
   "nbconvert_exporter": "python",
   "pygments_lexer": "ipython3",
   "version": "3.12.10"
  }
 },
 "nbformat": 4,
 "nbformat_minor": 5
}
